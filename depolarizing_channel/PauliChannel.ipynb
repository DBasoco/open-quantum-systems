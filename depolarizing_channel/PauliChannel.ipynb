{
 "cells": [
  {
   "cell_type": "code",
   "execution_count": 1,
   "id": "4f20c220-beab-43fd-9bdc-9888d4f5dec4",
   "metadata": {},
   "outputs": [],
   "source": [
    "# Code started from https://matteoacrossi.github.io/oqs-jupyterbook/project_2-solution.html\n",
    "\n",
    "import numpy as np\n",
    "from scipy.optimize import fsolve, differential_evolution\n",
    "\n",
    "# Main qiskit imports\n",
    "from qiskit import QuantumRegister, ClassicalRegister\n",
    "from qiskit import QuantumCircuit, execute, Aer, IBMQ\n",
    "\n",
    "# Tomography\n",
    "#from qiskit.ignis.verification.tomography import state_tomography_circuits\n",
    "#from qiskit.ignis.verification.tomography import StateTomographyFitter\n",
    "# qiskit ignis is deprecated. Verification has been migrated to qiskit experiments\n",
    "from qiskit_experiments.library import StateTomography\n",
    "from qiskit_experiments.library.tomography import StateTomographyAnalysis\n",
    "\n",
    "# Plots\n",
    "import matplotlib.pyplot as plt"
   ]
  },
  {
   "cell_type": "code",
   "execution_count": 2,
   "id": "038ad0d7-1ad1-4632-aeae-5e2abf24fd51",
   "metadata": {},
   "outputs": [],
   "source": [
    "# We have an analytical solution of the system of equations\n",
    "def theta_from_p(p):\n",
    "    \"\"\" Returns the angles [theta_1, theta_2, theta_3] that implement the Pauli channel with\n",
    "    probabilities p = [p_1, p_2, p_3]\"\"\"\n",
    "    \n",
    "    p = np.asarray(p, dtype=complex)\n",
    "    c = [np.sqrt(1 - np.sqrt(-4*p[0]**2 + (1 - 2*p[2])**2 + 8*p[0]*(p[2] + np.sqrt(-(p[2]*(-1 + 2*p[0] + p[2]))))))/np.sqrt(2),\n",
    "      np.sqrt(8*p[0]**3 - 4*p[0]**2*(-1 - 6*p[2] + np.sqrt(-4*p[0]**2 + (1 - 2*p[2])**2 + 8*p[0]*(p[2] + np.sqrt(-(p[2]*(-1 + 2*p[0] + p[2])))))) + \n",
    "           (1 - 2*p[2])**2*(-1 + 2*p[2] + np.sqrt(-4*p[0]**2 + (1 - 2*p[2])**2 + 8*p[0]*(p[2] + np.sqrt(-(p[2]*(-1 + 2*p[0] + p[2])))))) - \n",
    "           2*p[0]*(1 + 4*(p[2] - 3*p[2]**2 - p[2]*np.sqrt(-4*p[0]**2 + (1 - 2*p[2])**2 + 8*p[0]*(p[2] + np.sqrt(-(p[2]*(-1 + 2*p[0] + p[2]))))) + \n",
    "                 np.sqrt(-(p[2]*(-1 + 2*p[0] + p[2])))*np.sqrt(-4*p[0]**2 + (1 - 2*p[2])**2 + 8*p[0]*(p[2] + np.sqrt(-(p[2]*(-1 + 2*p[0] + p[2]))))))))/\n",
    "         (np.sqrt(2)*np.sqrt((-1 + 2*p[0] + 2*p[2])*(4*p[0]**2 + (1 - 2*p[2])**2 + p[0]*(4 + 8*p[2])))),\n",
    "      np.sqrt((8*p[0]**3 - 4*p[0]**2*(-1 - 6*p[2] + np.sqrt(-4*p[0]**2 + (1 - 2*p[2])**2 + 8*p[0]*(p[2] + np.sqrt(-(p[2]*(-1 + 2*p[0] + p[2])))))) + \n",
    "             (1 - 2*p[2])**2*(-1 + 2*p[2] + np.sqrt(-4*p[0]**2 + (1 - 2*p[2])**2 + 8*p[0]*(p[2] + np.sqrt(-(p[2]*(-1 + 2*p[0] + p[2])))))) - \n",
    "             2*p[0]*(1 + 4*(p[2] - 3*p[2]**2 - p[2]*np.sqrt(-4*p[0]**2 + (1 - 2*p[2])**2 + 8*p[0]*(p[2] + np.sqrt(-(p[2]*(-1 + 2*p[0] + p[2]))))) + \n",
    "                   np.sqrt(-(p[2]*(-1 + 2*p[0] + p[2])))*np.sqrt(-4*p[0]**2 + (1 - 2*p[2])**2 + 8*p[0]*(p[2] + np.sqrt(-(p[2]*(-1 + 2*p[0] + p[2]))))))))/\n",
    "           (4*p[0]**2 + (1 - 2*p[2])**2 + p[0]*(4 + 8*p[2])))/np.sqrt(-2 + 4*p[0] + 4*p[2])]\n",
    "\n",
    "    theta = 2*np.arccos(np.real(c))\n",
    "    return theta"
   ]
  },
  {
   "cell_type": "code",
   "execution_count": 3,
   "id": "562dd235-ddee-47cd-9a24-f62d0c2f868a",
   "metadata": {},
   "outputs": [],
   "source": [
    "def pauli_channel(qc: QuantumCircuit, p: float, system: QuantumRegister, pauli_ancillae: list):\n",
    "    \"\"\"\n",
    "        Apply the Pauli channel to system with probabilities p\n",
    "        \n",
    "    Args:\n",
    "    q (QuantumCircuit): The quantum circuit to make a copy of and put the depolarizing channel onto.\n",
    "    system (QuantumRegister): Register of the quantum circuit to use for the system.\n",
    "    pauli_ancillae (list): List of QuantumRegisters to use for the ancillary qubits.\n",
    "    p (list): list of probabilities [p_1, p_2, p_3] for the Pauli channel\n",
    "    \n",
    "    Returns:\n",
    "    A QuantumCircuit implementing the Pauli channel\n",
    "    \"\"\"\n",
    "    # Make a copy of the circuit passed in. This circuit will have the pauli depolarizing gates added to the end and then be returned.\n",
    "    dc = qc.copy()\n",
    "\n",
    "    # Calculate the values for the thetas based on the desired probabilites\n",
    "    theta = theta_from_p(p)\n",
    "\n",
    "    # Initialize the control ancillary qubits\n",
    "    dc.ry(theta[0], pauli_ancillae[0])\n",
    "    dc.cx(pauli_ancillae[0], pauli_ancillae[1])\n",
    "    dc.ry(theta[1], pauli_ancillae[0])\n",
    "    dc.ry(theta[2], pauli_ancillae[1])\n",
    "\n",
    "    # Apply the pauli gates.\n",
    "    dc.cx(pauli_ancillae[0], system)\n",
    "    dc.cy(pauli_ancillae[1], system)\n",
    "\n",
    "    return dc"
   ]
  },
  {
   "cell_type": "code",
   "execution_count": 4,
   "id": "d3a6271c-9430-4d9d-8c66-1767d1790baf",
   "metadata": {},
   "outputs": [],
   "source": [
    "from qiskit.quantum_info import entropy, partial_trace\n",
    "\n",
    "def conditional_entropy(state, qubit_a, qubit_b):\n",
    "    \"\"\"Conditional entropy S(A|B) = S(AB) - S(B)\n",
    "    \n",
    "    Args:\n",
    "        state: a vector or density operator\n",
    "        qubit_a: 0-based index of the qubit A\n",
    "        qubit_b: 0-based index of the qubit B\n",
    "        \n",
    "    Returns:\n",
    "        int: the conditional entropy\n",
    "    \"\"\"\n",
    "    return entropy(state) - entropy(partial_trace(state, [qubit_b]))\n",
    "\n",
    "def extractable_work(state, system_qubit, memory_qubit, n=1):\n",
    "    \"\"\"Extractable work from a two-qubit state\n",
    "    =\n",
    "    Cfr. Eq. (3-4) Bylicka et al., Sci. Rep. 6, 27989 (2016)\n",
    "    \n",
    "    Args:\n",
    "        qubit_a: 0-based index of the system qubit S\n",
    "        qubit_b: 0-based index of the memory qubit M\n",
    "    \"\"\"\n",
    "    return (n - conditional_entropy(state, system_qubit, memory_qubit)/np.log(2))"
   ]
  },
  {
   "cell_type": "code",
   "execution_count": 5,
   "id": "6301d8cd-421e-411c-b076-3fa483106ce8",
   "metadata": {},
   "outputs": [],
   "source": [
    "def p_enm(t, eta=1., omega=1.):\n",
    "    p = [1/4 * (1 - np.exp(-2 * t *eta)), \n",
    "         1/4 * (1 - np.exp(-2 * t *eta)),\n",
    "         1/4 * (1 + np.exp(-2 * t * eta) - 2 *np.exp(-t *eta) * np.cosh(t *omega))]\n",
    "    return p\n",
    "\n",
    "def p_ncp(t, eta=1., omega=1.):\n",
    "    p = [1/4 * (1 - np.exp(-2 * t *eta)), \n",
    "         1/4 * (1 - np.exp(-2 * t *eta)),\n",
    "         1/4 * (1 + np.exp(-2 * t * eta) - 2 *np.exp(-t *eta) * np.cos(t *omega))]\n",
    "    return p"
   ]
  },
  {
   "cell_type": "code",
   "execution_count": 6,
   "id": "c6a6782d-e538-4c5c-aa04-6682c395c010",
   "metadata": {},
   "outputs": [],
   "source": [
    "# Here are the parameters\n",
    "t_values = np.linspace(0, 3, 11)\n",
    "\n",
    "# Parameters\n",
    "params_ncp = {'eta': 0.1, 'omega': 2.0}\n",
    "params_enm = {'eta': 1.0, 'omega': .5}\n",
    "\n",
    "# And the qubit assignments\n",
    "SHOTS = 8192\n",
    "\n",
    "q = QuantumRegister(5, name='q')\n",
    "c = ClassicalRegister(2, name='c')\n",
    "\n",
    "system = 2\n",
    "ancilla = 4\n",
    "\n",
    "pauli_ancillae = [0, 1]"
   ]
  },
  {
   "cell_type": "code",
   "execution_count": 7,
   "id": "b85f990b-a398-4141-b587-e80e8ce903de",
   "metadata": {},
   "outputs": [
    {
     "data": {
      "text/plain": [
       "<qiskit.circuit.instructionset.InstructionSet at 0x25c1a9c7280>"
      ]
     },
     "execution_count": 7,
     "metadata": {},
     "output_type": "execute_result"
    }
   ],
   "source": [
    "# Prepare the two qubits 0 and 2 in a psi- state\n",
    "prepare_two_qubit = QuantumCircuit(q)\n",
    "\n",
    "prepare_two_qubit.x(q[ancilla])\n",
    "prepare_two_qubit.x(q[system])\n",
    "prepare_two_qubit.h(q[ancilla])\n",
    "prepare_two_qubit.cx(q[ancilla], q[system]) \n",
    "prepare_two_qubit.barrier()"
   ]
  },
  {
   "cell_type": "code",
   "execution_count": 13,
   "id": "b0c58b60-338d-4690-b245-9d61320c2a2f",
   "metadata": {},
   "outputs": [
    {
     "data": {
      "image/png": "[encoded data removed]",
      "text/plain": [
       "<Figure size 640x480 with 1 Axes>"
      ]
     },
     "metadata": {},
     "output_type": "display_data"
    }
   ],
   "source": [
    "backend = Aer.get_backend('qasm_simulator')\n",
    "fitter = 'linear_inversion'\n",
    "\n",
    "wext_ncp = []\n",
    "\n",
    "for t in t_values:\n",
    "    circ =  pauli_channel(prepare_two_qubit, p_ncp(t, **params_ncp), system, [q[i] for i in pauli_ancillae])\n",
    "    tomo_experiment = StateTomography(circ, measurement_indices=[system, ancilla])\n",
    "    results = tomo_experiment.run(backend, fitter=fitter).block_for_results()\n",
    "    rho = results.analysis_results(\"state\").value.data\n",
    "    wext_ncp.append(extractable_work(rho, 1, 0))\n",
    "\n",
    "wext_enm = []\n",
    "\n",
    "for t in t_values:\n",
    "    circ =  pauli_channel(prepare_two_qubit, p_enm(t, **params_enm), system, [q[i] for i in pauli_ancillae])\n",
    "    tomo_experiment = StateTomography(circ, measurement_indices=[system, ancilla])\n",
    "    results = tomo_experiment.run(backend, fitter=fitter).block_for_results()\n",
    "    rho = results.analysis_results(\"state\").value.data\n",
    "    wext_enm.append(extractable_work(rho, 1, 0))\n",
    "    \n",
    "plt.plot(t_values, wext_ncp, 'x', label='Non CP-div.')\n",
    "plt.plot(t_values, wext_enm, 'x', label='Et. Non-M')\n",
    "plt.legend()\n",
    "plt.xlabel('t')\n",
    "plt.ylabel('$W_{ex}$');"
   ]
  },
  {
   "cell_type": "code",
   "execution_count": null,
   "id": "39937118-a141-49c4-a5db-7bc71e9a03df",
   "metadata": {},
   "outputs": [],
   "source": []
  }
 ],
 "metadata": {
  "kernelspec": {
   "display_name": "Python 3 (ipykernel)",
   "language": "python",
   "name": "python3"
  },
  "language_info": {
   "codemirror_mode": {
    "name": "ipython",
    "version": 3
   },
   "file_extension": ".py",
   "mimetype": "text/x-python",
   "name": "python",
   "nbconvert_exporter": "python",
   "pygments_lexer": "ipython3",
   "version": "3.9.13"
  }
 },
 "nbformat": 4,
 "nbformat_minor": 5
}
