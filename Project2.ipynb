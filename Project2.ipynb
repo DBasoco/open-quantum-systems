{
 "cells": [
  {
   "cell_type": "code",
   "execution_count": 1,
   "id": "294048ff-d65c-411a-84dd-5b18ee35cf92",
   "metadata": {
    "tags": []
   },
   "outputs": [],
   "source": [
    "# Importing standard Qiskit libraries\n",
    "from qiskit import QuantumCircuit, transpile\n",
    "from qiskit.tools.jupyter import *\n",
    "from qiskit.visualization import *\n",
    "from ibm_quantum_widgets import *\n",
    "\n",
    "from qiskit import QuantumCircuit\n",
    "from qiskit.quantum_info import Statevector\n",
    "from qiskit.visualization import plot_bloch_multivector\n",
    "\n",
    "# qiskit-ibmq-provider has been deprecated.\n",
    "# Please see the Migration Guides in https://ibm.biz/provider_migration_guide for more detail.\n",
    "from qiskit_ibm_runtime import QiskitRuntimeService, Sampler, Estimator, Session, Options\n",
    "\n",
    "# Loading your IBM Quantum account(s)\n",
    "service = QiskitRuntimeService(channel=\"ibm_quantum\")\n",
    "def plotBloch(circ):\n",
    "    state = Statevector.from_instruction(circ)\n",
    "    plot_bloch_multivector(state)\n",
    "\n",
    "\n",
    "\n",
    "\n",
    "# Invoke a primitive. For more details see https://qiskit.org/documentation/partners/qiskit_ibm_runtime/tutorials.html\n",
    "# result = Sampler(\"ibmq_qasm_simulator\").run(circuits).result()"
   ]
  },
  {
   "cell_type": "code",
   "execution_count": 3,
   "id": "106f4017-46ab-4295-ae3d-358a0e37ebeb",
   "metadata": {
    "tags": []
   },
   "outputs": [],
   "source": [
    "from qiskit.visualization import plot_bloch_multivector\n",
    "qc = QuantumCircuit(4)\n",
    "qc.h(0)\n",
    "qc.x(1)\n",
    "qc.y(2)\n",
    "qc.z(3)\n",
    "plotRet = plotBloch(qc)\n",
    "plotRet\n"
   ]
  },
  {
   "cell_type": "code",
   "execution_count": null,
   "id": "5858085a-186d-459e-9cbf-6ca1595981fa",
   "metadata": {},
   "outputs": [],
   "source": []
  }
 ],
 "metadata": {
  "kernelspec": {
   "display_name": "Python 3 (ipykernel)",
   "language": "python",
   "name": "python3"
  },
  "language_info": {
   "codemirror_mode": {
    "name": "ipython",
    "version": 3
   },
   "file_extension": ".py",
   "mimetype": "text/x-python",
   "name": "python",
   "nbconvert_exporter": "python",
   "pygments_lexer": "ipython3",
   "version": "3.10.8"
  },
  "widgets": {
   "application/vnd.jupyter.widget-state+json": {
    "state": {
     "0847580eda57461db32b3a78d95d31a0": {
      "model_module": "@jupyter-widgets/controls",
      "model_module_version": "2.0.0",
      "model_name": "HTMLModel",
      "state": {
       "layout": "IPY_MODEL_270bcdb6eda647189b44fbae549d58ce",
       "style": "IPY_MODEL_5f9d4948238d49e69cc9c6f75c14aaee",
       "value": "<h5>Queue</h5>"
      }
     },
     "0b3a17274d754c70ad5a04bb7eba5420": {
      "model_module": "@jupyter-widgets/base",
      "model_module_version": "2.0.0",
      "model_name": "LayoutModel",
      "state": {
       "margin": "0px 0px 0px 37px",
       "width": "600px"
      }
     },
     "1241ad3f6c444430bbeefa3b0af96bb3": {
      "model_module": "@jupyter-widgets/controls",
      "model_module_version": "2.0.0",
      "model_name": "ButtonStyleModel",
      "state": {
       "font_family": null,
       "font_size": null,
       "font_style": null,
       "font_variant": null,
       "font_weight": null,
       "text_color": null,
       "text_decoration": null
      }
     },
     "18ff1c3f93fb41c48c569b47564433f3": {
      "model_module": "@jupyter-widgets/controls",
      "model_module_version": "2.0.0",
      "model_name": "HTMLStyleModel",
      "state": {
       "description_width": "",
       "font_size": null,
       "text_color": null
      }
     },
     "1b08b5d663994ecfb827c6f1a449d0ec": {
      "model_module": "@jupyter-widgets/base",
      "model_module_version": "2.0.0",
      "model_name": "LayoutModel",
      "state": {}
     },
     "270bcdb6eda647189b44fbae549d58ce": {
      "model_module": "@jupyter-widgets/base",
      "model_module_version": "2.0.0",
      "model_name": "LayoutModel",
      "state": {
       "width": "70px"
      }
     },
     "3c7ef9c14fa34ebeaafa1d3f412443e3": {
      "model_module": "@jupyter-widgets/base",
      "model_module_version": "2.0.0",
      "model_name": "LayoutModel",
      "state": {
       "grid_template_areas": "\n                                       \". . . . right \"\n                                        ",
       "grid_template_columns": "20% 20% 20% 20% 20%",
       "width": "100%"
      }
     },
     "3cdf459a4fe44c1ab5107025112a6e07": {
      "model_module": "@jupyter-widgets/base",
      "model_module_version": "2.0.0",
      "model_name": "LayoutModel",
      "state": {
       "margin": "0px 0px 10px 0px"
      }
     },
     "45b4ee81d4cd40bcb0b01582b12d9bcb": {
      "model_module": "@jupyter-widgets/controls",
      "model_module_version": "2.0.0",
      "model_name": "HTMLModel",
      "state": {
       "layout": "IPY_MODEL_eb8a79aab2af4d68960fb4109e046868",
       "style": "IPY_MODEL_82f0aa4feb2d4af6af14373a85ee5857",
       "value": "<h5>Backend</h5>"
      }
     },
     "5460e19d7ea9489b8a4e170a94dc0398": {
      "model_module": "@jupyter-widgets/controls",
      "model_module_version": "2.0.0",
      "model_name": "HTMLStyleModel",
      "state": {
       "description_width": "",
       "font_size": null,
       "text_color": null
      }
     },
     "5f9d4948238d49e69cc9c6f75c14aaee": {
      "model_module": "@jupyter-widgets/controls",
      "model_module_version": "2.0.0",
      "model_name": "HTMLStyleModel",
      "state": {
       "description_width": "",
       "font_size": null,
       "text_color": null
      }
     },
     "6b555acf75d44d8abc5077752c8b577f": {
      "model_module": "@jupyter-widgets/controls",
      "model_module_version": "2.0.0",
      "model_name": "HTMLStyleModel",
      "state": {
       "description_width": "",
       "font_size": null,
       "text_color": null
      }
     },
     "82f0aa4feb2d4af6af14373a85ee5857": {
      "model_module": "@jupyter-widgets/controls",
      "model_module_version": "2.0.0",
      "model_name": "HTMLStyleModel",
      "state": {
       "description_width": "",
       "font_size": null,
       "text_color": null
      }
     },
     "8f239f60dae8452cb307f2a7adaab40e": {
      "model_module": "@jupyter-widgets/controls",
      "model_module_version": "2.0.0",
      "model_name": "HTMLModel",
      "state": {
       "layout": "IPY_MODEL_b43176439d3d4351be601ee525db1f6c",
       "style": "IPY_MODEL_ad1a858a8a5e4e0389a5e260b6748511",
       "value": "<h5>Job ID</h5>"
      }
     },
     "93795759802b44758a447f8e3a2acc00": {
      "model_module": "@jupyter-widgets/controls",
      "model_module_version": "2.0.0",
      "model_name": "GridBoxModel",
      "state": {
       "children": [
        "IPY_MODEL_d162c048f2744ba4879cdf14998f0626"
       ],
       "layout": "IPY_MODEL_3c7ef9c14fa34ebeaafa1d3f412443e3"
      }
     },
     "a380534a938a435f97db813f0b45f182": {
      "model_module": "@jupyter-widgets/base",
      "model_module_version": "2.0.0",
      "model_name": "LayoutModel",
      "state": {
       "width": "95px"
      }
     },
     "ad1a858a8a5e4e0389a5e260b6748511": {
      "model_module": "@jupyter-widgets/controls",
      "model_module_version": "2.0.0",
      "model_name": "HTMLStyleModel",
      "state": {
       "description_width": "",
       "font_size": null,
       "text_color": null
      }
     },
     "b257db012ae6418690443dbfaa33618e": {
      "model_module": "@jupyter-widgets/controls",
      "model_module_version": "2.0.0",
      "model_name": "HBoxModel",
      "state": {
       "children": [
        "IPY_MODEL_8f239f60dae8452cb307f2a7adaab40e",
        "IPY_MODEL_45b4ee81d4cd40bcb0b01582b12d9bcb",
        "IPY_MODEL_fed5db415e7d49e5a3a1c93181542c30",
        "IPY_MODEL_0847580eda57461db32b3a78d95d31a0",
        "IPY_MODEL_ec084d49b5f64cf7b72f941401a98bfd"
       ],
       "layout": "IPY_MODEL_0b3a17274d754c70ad5a04bb7eba5420"
      }
     },
     "b43176439d3d4351be601ee525db1f6c": {
      "model_module": "@jupyter-widgets/base",
      "model_module_version": "2.0.0",
      "model_name": "LayoutModel",
      "state": {
       "width": "190px"
      }
     },
     "d162c048f2744ba4879cdf14998f0626": {
      "model_module": "@jupyter-widgets/controls",
      "model_module_version": "2.0.0",
      "model_name": "ButtonModel",
      "state": {
       "button_style": "primary",
       "description": "Clear",
       "layout": "IPY_MODEL_f75ed7d1b19d4e74a785a46e68867536",
       "style": "IPY_MODEL_1241ad3f6c444430bbeefa3b0af96bb3",
       "tooltip": null
      }
     },
     "e01b18caadfe49a28d48f48d46f91b4f": {
      "model_module": "@jupyter-widgets/controls",
      "model_module_version": "2.0.0",
      "model_name": "HTMLModel",
      "state": {
       "layout": "IPY_MODEL_3cdf459a4fe44c1ab5107025112a6e07",
       "style": "IPY_MODEL_6b555acf75d44d8abc5077752c8b577f",
       "value": "<p style='font-family: IBM Plex Sans, Arial, Helvetica, sans-serif; font-size: 20px; font-weight: medium;'>Circuit Properties</p>"
      }
     },
     "eb8a79aab2af4d68960fb4109e046868": {
      "model_module": "@jupyter-widgets/base",
      "model_module_version": "2.0.0",
      "model_name": "LayoutModel",
      "state": {
       "width": "145px"
      }
     },
     "ec084d49b5f64cf7b72f941401a98bfd": {
      "model_module": "@jupyter-widgets/controls",
      "model_module_version": "2.0.0",
      "model_name": "HTMLModel",
      "state": {
       "layout": "IPY_MODEL_1b08b5d663994ecfb827c6f1a449d0ec",
       "style": "IPY_MODEL_5460e19d7ea9489b8a4e170a94dc0398",
       "value": "<h5>Message</h5>"
      }
     },
     "f75ed7d1b19d4e74a785a46e68867536": {
      "model_module": "@jupyter-widgets/base",
      "model_module_version": "2.0.0",
      "model_name": "LayoutModel",
      "state": {
       "grid_area": "right",
       "padding": "0px 0px 0px 0px",
       "width": "70px"
      }
     },
     "fed5db415e7d49e5a3a1c93181542c30": {
      "model_module": "@jupyter-widgets/controls",
      "model_module_version": "2.0.0",
      "model_name": "HTMLModel",
      "state": {
       "layout": "IPY_MODEL_a380534a938a435f97db813f0b45f182",
       "style": "IPY_MODEL_18ff1c3f93fb41c48c569b47564433f3",
       "value": "<h5>Status</h5>"
      }
     }
    },
    "version_major": 2,
    "version_minor": 0
   }
  }
 },
 "nbformat": 4,
 "nbformat_minor": 5
}
